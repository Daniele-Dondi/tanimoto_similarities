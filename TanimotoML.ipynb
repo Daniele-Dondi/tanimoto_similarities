{
 "cells": [
  {
   "cell_type": "code",
   "execution_count": 58,
   "id": "07a27055",
   "metadata": {},
   "outputs": [
    {
     "name": "stdout",
     "output_type": "stream",
     "text": [
      "max std dev  0.20815367222906445 [0.375, 0.45, 0.25, 0.6375, 0.4594594594594595, 0.51, 0.3695652173913043, 0.8375, 0.67, 0.3488372093023256, 1.0, 0.9195402298850575, 0.23255813953488372, 0.1796875, 0.2072072072072072, 0.25274725274725274, 0.23622047244094488, 0.32608695652173914, 0.23357664233576642, 0.34513274336283184, 0.43820224719101125, 0.312, 0.3023255813953488, 0.26, 0.21008403361344538, 0.34951456310679613, 0.5411764705882353, 0.39316239316239315, 0.29545454545454547, 0.45217391304347826, 0.6261682242990654]\n",
      "max stdev/average  0.6604680432149275 [0.3448275862068966, 0.47619047619047616, 0.7692307692307693, 0.3508771929824561, 0.22727272727272727, 0.2597402597402597, 0.2413793103448276, 0.273972602739726, 0.21505376344086022, 0.2916666666666667, 0.23255813953488372, 0.21505376344086022, 1.0, 0.1686746987951807, 0.21212121212121213, 0.30434782608695654, 0.15730337078651685, 0.25925925925925924, 0.15, 0.18072289156626506, 0.2542372881355932, 0.15789473684210525, 0.15151515151515152, 0.125, 0.18421052631578946, 0.3076923076923077, 0.2222222222222222, 0.14736842105263157, 0.12987012987012986, 0.21505376344086022, 0.2]\n"
     ]
    }
   ],
   "source": [
    "import time\n",
    "import random\n",
    "import sys\n",
    "from pathlib import Path\n",
    "import seaborn as sns\n",
    "import numpy as np\n",
    "import matplotlib.pyplot as plt \n",
    "from matplotlib import pyplot\n",
    "from rdkit import Chem\n",
    "from rdkit import DataStructs\n",
    "from rdkit.ML.Cluster import Butina\n",
    "from rdkit.Chem import Draw\n",
    "from rdkit.Chem import rdFingerprintGenerator\n",
    "from rdkit.Chem.Draw import SimilarityMaps\n",
    "\n",
    "# Show full results\n",
    "#np.set_printoptions(threshold=sys.maxsize)\n",
    "\n",
    "# Define a function to calculate similarities among the molecules\n",
    "def calculate_similarity(molecules):\n",
    "    fgrps = [rdkit_gen.GetFingerprint(Chem.MolFromSmiles(mol)) for mol in molecules]\n",
    "    nfgrps = len(fgrps)\n",
    "    maxdev=-1\n",
    "    element=0\n",
    "    maxmean=-1\n",
    "    element2=0\n",
    "    maxratio=-1\n",
    "    element3=0\n",
    "    for i in range(1, nfgrps):\n",
    "            sim2=DataStructs.BulkTanimotoSimilarity(fgrps[i], fgrps[:])\n",
    "            stdev=np.std(sim2)\n",
    "            aver=np.average(sim2)\n",
    "            if stdev>maxdev:\n",
    "                maxdev=stdev\n",
    "                element=i\n",
    "                maxdevline=sim2\n",
    "            if aver>maxmean:\n",
    "                maxmean=aver\n",
    "                element2=i\n",
    "            tmp=stdev/aver\n",
    "            if tmp>maxratio:\n",
    "                maxratio=tmp\n",
    "                element3=i\n",
    "                maxratioline=sim2\n",
    "    print(\"max std dev \",maxdev,maxdevline)\n",
    "    #print(\"max average \",maxmean,labels[element2])\n",
    "    print(\"max stdev/average \",maxratio,maxratioline)\n",
    "\n",
    "rdkit_gen = rdFingerprintGenerator.GetRDKitFPGenerator(maxPath=7)\n",
    "\n",
    "# Read the input CSV file.\n",
    "f = open(\"smi.csv\",\"r\")\n",
    "ligands = f.readlines()\n",
    "f.close()\n",
    "ligands = ligands[1:] #remove the first line of csv file (header)\n",
    "\n",
    "# Insert molecules and labels in arrays from file\n",
    "cols=[]\n",
    "num=len(ligands)\n",
    "for line in ligands:\n",
    "    line=line.strip().split(\",\")\n",
    "    cols.append(line)\n",
    "    numcols=len(line)\n",
    "for i in range(numcols):\n",
    "    calculate_similarity([cols[j][i] for j in range(num)])\n",
    "\n",
    "\n",
    "\n",
    "\n",
    "\n",
    "\n",
    "# Write similarities\n",
    "#f = open(\"similarities.txt\", \"w\")\n",
    "#print (similarities, file=f)\n",
    "#f.close()\n",
    "\n",
    "\n",
    "\n",
    "\n"
   ]
  },
  {
   "cell_type": "code",
   "execution_count": null,
   "id": "765f27cc",
   "metadata": {},
   "outputs": [],
   "source": []
  },
  {
   "cell_type": "code",
   "execution_count": null,
   "id": "c4dc7824-ebb0-4139-884e-628ac9cbcb9c",
   "metadata": {},
   "outputs": [],
   "source": []
  }
 ],
 "metadata": {
  "kernelspec": {
   "display_name": "Python 3 (ipykernel)",
   "language": "python",
   "name": "python3"
  },
  "language_info": {
   "codemirror_mode": {
    "name": "ipython",
    "version": 3
   },
   "file_extension": ".py",
   "mimetype": "text/x-python",
   "name": "python",
   "nbconvert_exporter": "python",
   "pygments_lexer": "ipython3",
   "version": "3.9.6"
  }
 },
 "nbformat": 4,
 "nbformat_minor": 5
}
