{
 "cells": [
  {
   "cell_type": "code",
   "execution_count": 7,
   "id": "07a27055",
   "metadata": {},
   "outputs": [
    {
     "name": "stdout",
     "output_type": "stream",
     "text": [
      "CC(C)(C(=O)O)O\n",
      "\n"
     ]
    },
    {
     "ename": "ArgumentError",
     "evalue": "Python argument types in\n    FingerprintGenerator64.GetFingerprint(FingerprintGenerator64, NoneType)\ndid not match C++ signature:\n    GetFingerprint(class RDKit::FingerprintGenerator<unsigned __int64> const * __ptr64, class RDKit::ROMol mol, class boost::python::api::object fromAtoms=[], class boost::python::api::object ignoreAtoms=[], int confId=-1, class boost::python::api::object customAtomInvariants=[], class boost::python::api::object customBondInvariants=[], class boost::python::api::object additionalOutput=None)",
     "output_type": "error",
     "traceback": [
      "\u001b[1;31m---------------------------------------------------------------------------\u001b[0m",
      "\u001b[1;31mArgumentError\u001b[0m                             Traceback (most recent call last)",
      "Cell \u001b[1;32mIn[7], line 64\u001b[0m\n\u001b[0;32m     62\u001b[0m     \u001b[38;5;28;01mfor\u001b[39;00m column \u001b[38;5;129;01min\u001b[39;00m line:\n\u001b[0;32m     63\u001b[0m         \u001b[38;5;28mprint\u001b[39m(column)\n\u001b[1;32m---> 64\u001b[0m         \u001b[43mcalculate_similarity\u001b[49m\u001b[43m(\u001b[49m\u001b[43mcolumn\u001b[49m\u001b[43m)\u001b[49m\n\u001b[0;32m     70\u001b[0m \u001b[38;5;124;03m'''\u001b[39;00m\n\u001b[0;32m     71\u001b[0m \u001b[38;5;124;03m# Write similarities\u001b[39;00m\n\u001b[0;32m     72\u001b[0m \u001b[38;5;124;03mf = open(\"similarities.txt\", \"w\")\u001b[39;00m\n\u001b[1;32m   (...)\u001b[0m\n\u001b[0;32m     75\u001b[0m \n\u001b[0;32m     76\u001b[0m \u001b[38;5;124;03m'''\u001b[39;00m\n",
      "Cell \u001b[1;32mIn[7], line 21\u001b[0m, in \u001b[0;36mcalculate_similarity\u001b[1;34m(molecules)\u001b[0m\n\u001b[0;32m     20\u001b[0m \u001b[38;5;28;01mdef\u001b[39;00m \u001b[38;5;21mcalculate_similarity\u001b[39m(molecules):\n\u001b[1;32m---> 21\u001b[0m     fgrps \u001b[38;5;241m=\u001b[39m [rdkit_gen\u001b[38;5;241m.\u001b[39mGetFingerprint(Chem\u001b[38;5;241m.\u001b[39mMolFromSmiles(mol)) \u001b[38;5;28;01mfor\u001b[39;00m mol \u001b[38;5;129;01min\u001b[39;00m molecules]\n\u001b[0;32m     22\u001b[0m     nfgrps \u001b[38;5;241m=\u001b[39m \u001b[38;5;28mlen\u001b[39m(fgrps)\n\u001b[0;32m     23\u001b[0m     maxdev\u001b[38;5;241m=\u001b[39m\u001b[38;5;241m-\u001b[39m\u001b[38;5;241m1\u001b[39m\n",
      "Cell \u001b[1;32mIn[7], line 21\u001b[0m, in \u001b[0;36m<listcomp>\u001b[1;34m(.0)\u001b[0m\n\u001b[0;32m     20\u001b[0m \u001b[38;5;28;01mdef\u001b[39;00m \u001b[38;5;21mcalculate_similarity\u001b[39m(molecules):\n\u001b[1;32m---> 21\u001b[0m     fgrps \u001b[38;5;241m=\u001b[39m [\u001b[43mrdkit_gen\u001b[49m\u001b[38;5;241;43m.\u001b[39;49m\u001b[43mGetFingerprint\u001b[49m\u001b[43m(\u001b[49m\u001b[43mChem\u001b[49m\u001b[38;5;241;43m.\u001b[39;49m\u001b[43mMolFromSmiles\u001b[49m\u001b[43m(\u001b[49m\u001b[43mmol\u001b[49m\u001b[43m)\u001b[49m\u001b[43m)\u001b[49m \u001b[38;5;28;01mfor\u001b[39;00m mol \u001b[38;5;129;01min\u001b[39;00m molecules]\n\u001b[0;32m     22\u001b[0m     nfgrps \u001b[38;5;241m=\u001b[39m \u001b[38;5;28mlen\u001b[39m(fgrps)\n\u001b[0;32m     23\u001b[0m     maxdev\u001b[38;5;241m=\u001b[39m\u001b[38;5;241m-\u001b[39m\u001b[38;5;241m1\u001b[39m\n",
      "\u001b[1;31mArgumentError\u001b[0m: Python argument types in\n    FingerprintGenerator64.GetFingerprint(FingerprintGenerator64, NoneType)\ndid not match C++ signature:\n    GetFingerprint(class RDKit::FingerprintGenerator<unsigned __int64> const * __ptr64, class RDKit::ROMol mol, class boost::python::api::object fromAtoms=[], class boost::python::api::object ignoreAtoms=[], int confId=-1, class boost::python::api::object customAtomInvariants=[], class boost::python::api::object customBondInvariants=[], class boost::python::api::object additionalOutput=None)"
     ]
    }
   ],
   "source": [
    "import time\n",
    "import random\n",
    "import sys\n",
    "from pathlib import Path\n",
    "import seaborn as sns\n",
    "import numpy as np\n",
    "import matplotlib.pyplot as plt \n",
    "from matplotlib import pyplot\n",
    "from rdkit import Chem\n",
    "from rdkit import DataStructs\n",
    "from rdkit.ML.Cluster import Butina\n",
    "from rdkit.Chem import Draw\n",
    "from rdkit.Chem import rdFingerprintGenerator\n",
    "from rdkit.Chem.Draw import SimilarityMaps\n",
    "\n",
    "# Show full results\n",
    "#np.set_printoptions(threshold=sys.maxsize)\n",
    "\n",
    "# Define a function to calculate similarities among the molecules\n",
    "def calculate_similarity(molecules):\n",
    "    fgrps = [rdkit_gen.GetFingerprint(Chem.MolFromSmiles(mol)) for mol in molecules]\n",
    "    nfgrps = len(fgrps)\n",
    "    maxdev=-1\n",
    "    element=0\n",
    "    maxmean=-1\n",
    "    element2=0\n",
    "    maxratio=-1\n",
    "    element3=0\n",
    "    for i in range(1, nfgrps):\n",
    "            similarity = DataStructs.BulkTanimotoSimilarity(fgrps[i], fgrps[:i])\n",
    "            sim2=DataStructs.BulkTanimotoSimilarity(fgrps[i], fgrps[:])\n",
    "            stdev=np.std(sim2)\n",
    "            aver=np.average(sim2)\n",
    "            if stdev>maxdev:\n",
    "                maxdev=stdev\n",
    "                element=i\n",
    "                maxdevline=sim2\n",
    "            if aver>maxmean:\n",
    "                maxmean=aver\n",
    "                element2=i\n",
    "            tmp=stdev/aver\n",
    "            if tmp>maxratio:\n",
    "                maxratio=tmp\n",
    "                element3=i\n",
    "                maxratioline=sim2\n",
    "    print(\"max std dev \",maxdev,maxdevline)\n",
    "    #print(\"max average \",maxmean,labels[element2])\n",
    "    print(\"max stdev/average \",maxratio,maxratioline)\n",
    "\n",
    "rdkit_gen = rdFingerprintGenerator.GetRDKitFPGenerator(maxPath=7)\n",
    "\n",
    "# Read the input CSV file.\n",
    "f = open(\"smi.csv\",\"r\")\n",
    "ligands = f.readlines()\n",
    "f.close()\n",
    "ligands = ligands[1:] #remove the first line of csv file (header)\n",
    "\n",
    "# Insert molecules and labels in arrays from file\n",
    "for line in ligands:\n",
    "    #print(line)\n",
    "    line=line.split(\",\")\n",
    "    for column in line:\n",
    "        print(column)\n",
    "        calculate_similarity(column)\n",
    "\n",
    "\n",
    "\n",
    "\n",
    "\n",
    "'''\n",
    "# Write similarities\n",
    "f = open(\"similarities.txt\", \"w\")\n",
    "print (similarities, file=f)\n",
    "f.close()\n",
    "\n",
    "'''\n",
    "\n",
    "\n"
   ]
  },
  {
   "cell_type": "code",
   "execution_count": null,
   "id": "765f27cc",
   "metadata": {},
   "outputs": [],
   "source": []
  },
  {
   "cell_type": "code",
   "execution_count": null,
   "id": "c4dc7824-ebb0-4139-884e-628ac9cbcb9c",
   "metadata": {},
   "outputs": [],
   "source": []
  }
 ],
 "metadata": {
  "kernelspec": {
   "display_name": "Python 3 (ipykernel)",
   "language": "python",
   "name": "python3"
  },
  "language_info": {
   "codemirror_mode": {
    "name": "ipython",
    "version": 3
   },
   "file_extension": ".py",
   "mimetype": "text/x-python",
   "name": "python",
   "nbconvert_exporter": "python",
   "pygments_lexer": "ipython3",
   "version": "3.9.6"
  }
 },
 "nbformat": 4,
 "nbformat_minor": 5
}
