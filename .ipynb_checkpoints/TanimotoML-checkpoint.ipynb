{
 "cells": [
  {
   "cell_type": "code",
   "execution_count": 2,
   "id": "07a27055",
   "metadata": {},
   "outputs": [
    {
     "name": "stdout",
     "output_type": "stream",
     "text": [
      "max std dev  0.21674158133373447 [0.019337016574585635, 0.01984126984126984, 0.021367521367521368, 0.010416666666666666, 0.016304347826086956, 0.3064516129032258, 0.26548672566371684, 0.2923076923076923, 0.2786885245901639, 0.055350553505535055, 0.2619047619047619, 0.2246376811594203, 0.09361702127659574, 0.2753623188405797, 0.21904761904761905, 0.22727272727272727, 0.31007751937984496, 0.18181818181818182, 0.09180327868852459, 0.20134228187919462, 0.10077519379844961, 0.2222222222222222, 0.2684563758389262, 0.25157232704402516, 0.22916666666666666, 0.07913669064748201, 0.43373493975903615, 0.5373134328358209, 0.29850746268656714, 0.7611940298507462, 0.5204081632653061, 0.5862068965517241, 0.43037974683544306, 1.0, 0.7701149425287356, 0.410958904109589, 0.8375, 0.7701149425287356, 0.273972602739726, 0.2, 0.23469387755102042, 0.2948717948717949, 0.2631578947368421, 0.379746835443038, 0.248, 0.39, 0.5131578947368421, 0.3482142857142857, 0.33620689655172414, 0.2846715328467153, 0.2358490566037736, 0.4, 0.475, 0.3392857142857143, 0.31097560975609756, 0.49514563106796117, 0.7127659574468085, 0.0661764705882353]\n",
      "max stdev/average  2.3860065301683924 [0.2398843930635838, 0.26294820717131473, 0.15698924731182795, 1.0, 0.33513513513513515, 0.02304147465437788, 0.030456852791878174, 0.02702702702702703, 0.03349282296650718, 0.07482993197278912, 0.024691358024691357, 0.026905829596412557, 0.06375838926174497, 0.03056768558951965, 0.03296703296703297, 0.04716981132075472, 0.026905829596412557, 0.013422818791946308, 0.10704225352112676, 0.03463203463203463, 0.05194805194805195, 0.04669260700389105, 0.04184100418410042, 0.03187250996015936, 0.028901734104046242, 0.061946902654867256, 0.011299435028248588, 0.006172839506172839, 0.00684931506849315, 0.011363636363636364, 0.014563106796116505, 0.015384615384615385, 0.01764705882352941, 0.010416666666666666, 0.009433962264150943, 0.012422360248447204, 0.014705882352941176, 0.023923444976076555, 0.006578947368421052, 0.01020408163265306, 0.0111731843575419, 0.00625, 0.02512562814070352, 0.024242424242424242, 0.023696682464454975, 0.020512820512820513, 0.01744186046511628, 0.01932367149758454, 0.03365384615384615, 0.021645021645021644, 0.015957446808510637, 0.005405405405405406, 0.011363636363636364, 0.024390243902439025, 0.026119402985074626, 0.023923444976076555, 0.013761467889908258, 0.03015075376884422]\n"
     ]
    },
    {
     "data": {
      "text/plain": [
       "'\\n# Write similarities\\nf = open(\"similarities.txt\", \"w\")\\nprint (similarities, file=f)\\nf.close()\\n\\n'"
      ]
     },
     "execution_count": 2,
     "metadata": {},
     "output_type": "execute_result"
    }
   ],
   "source": [
    "import time\n",
    "import random\n",
    "import sys\n",
    "from pathlib import Path\n",
    "import seaborn as sns\n",
    "import numpy as np\n",
    "import matplotlib.pyplot as plt \n",
    "from matplotlib import pyplot\n",
    "from rdkit import Chem\n",
    "from rdkit import DataStructs\n",
    "from rdkit.ML.Cluster import Butina\n",
    "from rdkit.Chem import Draw\n",
    "from rdkit.Chem import rdFingerprintGenerator\n",
    "from rdkit.Chem.Draw import SimilarityMaps\n",
    "\n",
    "# Show full results\n",
    "#np.set_printoptions(threshold=sys.maxsize)\n",
    "\n",
    "# Read the input CSV file.\n",
    "f = open(\"smi.csv\",\"r\")\n",
    "ligands = f.readlines()\n",
    "f.close()\n",
    "ligands = ligands[1:] #remove the first line of csv file (header)\n",
    "\n",
    "rdkit_gen = rdFingerprintGenerator.GetRDKitFPGenerator(maxPath=7)\n",
    "\n",
    "# Insert molecules and labels in arrays from file\n",
    "for line in ligands:\n",
    "    #print(line)\n",
    "    line=line.split(\",\")\n",
    "    for column in line:\n",
    "        calculate_similarity(column)\n",
    "\n",
    "\n",
    "# Define a function to calculate similarities among the molecules\n",
    "def calculate_similarity(molecules):\n",
    "    fgrps = [rdkit_gen.GetFingerprint(mol) for mol in molecules]\n",
    "    nfgrps = len(fgrps)\n",
    "    maxdev=-1\n",
    "    element=0\n",
    "    maxmean=-1\n",
    "    element2=0\n",
    "    maxratio=-1\n",
    "    element3=0\n",
    "    for i in range(1, nfgrps):\n",
    "            similarity = DataStructs.BulkTanimotoSimilarity(fgrps[i], fgrps[:i])\n",
    "            sim2=DataStructs.BulkTanimotoSimilarity(fgrps[i], fgrps[:])\n",
    "            stdev=np.std(sim2)\n",
    "            aver=np.average(sim2)\n",
    "            if stdev>maxdev:\n",
    "                maxdev=stdev\n",
    "                element=i\n",
    "                maxdevline=sim2\n",
    "            if aver>maxmean:\n",
    "                maxmean=aver\n",
    "                element2=i\n",
    "            tmp=stdev/aver\n",
    "            if tmp>maxratio:\n",
    "                maxratio=tmp\n",
    "                element3=i\n",
    "                maxratioline=sim2\n",
    "    print(\"max std dev \",maxdev,maxdevline)\n",
    "    #print(\"max average \",maxmean,labels[element2])\n",
    "    print(\"max stdev/average \",maxratio,maxratioline)\n",
    "\n",
    "# Calculate similarities of molecules\n",
    "pairwise_similarity(fgrps)\n",
    "\n",
    "'''\n",
    "# Write similarities\n",
    "f = open(\"similarities.txt\", \"w\")\n",
    "print (similarities, file=f)\n",
    "f.close()\n",
    "\n",
    "'''\n",
    "\n",
    "\n"
   ]
  },
  {
   "cell_type": "code",
   "execution_count": null,
   "id": "765f27cc",
   "metadata": {},
   "outputs": [],
   "source": []
  },
  {
   "cell_type": "code",
   "execution_count": null,
   "id": "c4dc7824-ebb0-4139-884e-628ac9cbcb9c",
   "metadata": {},
   "outputs": [],
   "source": []
  }
 ],
 "metadata": {
  "kernelspec": {
   "display_name": "Python 3 (ipykernel)",
   "language": "python",
   "name": "python3"
  },
  "language_info": {
   "codemirror_mode": {
    "name": "ipython",
    "version": 3
   },
   "file_extension": ".py",
   "mimetype": "text/x-python",
   "name": "python",
   "nbconvert_exporter": "python",
   "pygments_lexer": "ipython3",
   "version": "3.9.6"
  }
 },
 "nbformat": 4,
 "nbformat_minor": 5
}
