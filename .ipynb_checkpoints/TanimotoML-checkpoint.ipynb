{
 "cells": [
  {
   "cell_type": "code",
   "execution_count": 67,
   "id": "07a27055",
   "metadata": {
    "scrolled": true
   },
   "outputs": [
    {
     "name": "stdout",
     "output_type": "stream",
     "text": [
      "max std dev  0.17351139137416563  max stdev/average  0.22326670313665126\n",
      "max std dev  0.22640171726735717  max stdev/average  0.9782888111776854\n",
      "max std dev  0.4372312908789775  max stdev/average  1.1433400165337089\n",
      "max std dev  0.25590292833727885  max stdev/average  1.1898812786597823\n",
      "process ended\n"
     ]
    }
   ],
   "source": [
    "import time\n",
    "import random\n",
    "import sys\n",
    "from pathlib import Path\n",
    "import seaborn as sns\n",
    "import numpy as np\n",
    "import matplotlib.pyplot as plt \n",
    "from matplotlib import pyplot\n",
    "from rdkit import Chem\n",
    "from rdkit import DataStructs\n",
    "from rdkit.ML.Cluster import Butina\n",
    "from rdkit.Chem import Draw\n",
    "from rdkit.Chem import rdFingerprintGenerator\n",
    "from rdkit.Chem.Draw import SimilarityMaps\n",
    "\n",
    "# Show full results\n",
    "#np.set_printoptions(threshold=sys.maxsize)\n",
    "\n",
    "# Define a function to calculate similarities among the molecules\n",
    "def calculate_similarity(molecules):\n",
    "    fgrps = [rdkit_gen.GetFingerprint(Chem.MolFromSmiles(mol)) for mol in molecules]\n",
    "    nfgrps = len(fgrps)\n",
    "    maxdev=-1\n",
    "    element=0\n",
    "    maxmean=-1\n",
    "    element2=0\n",
    "    maxratio=-1\n",
    "    element3=0\n",
    "    for i in range(1, nfgrps):\n",
    "            sim2=DataStructs.BulkTanimotoSimilarity(fgrps[i], fgrps[:])\n",
    "            stdev=np.std(sim2)\n",
    "            aver=np.average(sim2)\n",
    "            if stdev>maxdev:\n",
    "                maxdev=stdev\n",
    "                element=i\n",
    "                maxdevline=sim2\n",
    "            if aver>maxmean:\n",
    "                maxmean=aver\n",
    "                element2=i\n",
    "            tmp=stdev/aver\n",
    "            if tmp>maxratio:\n",
    "                maxratio=tmp\n",
    "                element3=i\n",
    "                maxratioline=sim2\n",
    "    print(\"max std dev \",maxdev,end=\"\")#,maxdevline)\n",
    "    #print(\"max average \",maxmean,labels[element2])\n",
    "    print(\"  max stdev/average \",maxratio)#,maxratioline)\n",
    "    return maxdevline,maxratioline\n",
    "\n",
    "rdkit_gen = rdFingerprintGenerator.GetRDKitFPGenerator(maxPath=7)\n",
    "\n",
    "# Read the input CSV file.\n",
    "f = open(\"smi.csv\",\"r\")\n",
    "ligands = f.readlines()\n",
    "f.close()\n",
    "ligands = ligands[1:] #remove the first line of csv file (header)\n",
    "\n",
    "# Insert molecules and labels in arrays from file\n",
    "cols=[]\n",
    "results=[]\n",
    "num=len(ligands)\n",
    "for line in ligands:\n",
    "    line=line.strip().split(\",\")\n",
    "    cols.append(line)\n",
    "    numcols=len(line)\n",
    "for i in range(numcols):\n",
    "    a,b=calculate_similarity([cols[j][i] for j in range(num)])\n",
    "    results.append(b)\n",
    "\n",
    "maxrows=len(results)\n",
    "maxlines=len(results[0])\n",
    "# Write similarities\n",
    "f = open(\"gfrefre.csv\", \"w\")\n",
    "for i in range(maxlines):\n",
    "    lin=[]\n",
    "    for j in range(maxrows):\n",
    "        lin.append(str(results[j][i]))\n",
    "    print(\",\".join(lin), file=f)\n",
    "#print (similarities, file=f)\n",
    "f.close()\n",
    "print(\"process ended\")\n",
    "\n",
    "\n",
    "\n"
   ]
  },
  {
   "cell_type": "code",
   "execution_count": null,
   "id": "765f27cc",
   "metadata": {},
   "outputs": [],
   "source": []
  },
  {
   "cell_type": "code",
   "execution_count": null,
   "id": "c4dc7824-ebb0-4139-884e-628ac9cbcb9c",
   "metadata": {},
   "outputs": [],
   "source": []
  }
 ],
 "metadata": {
  "kernelspec": {
   "display_name": "Python 3 (ipykernel)",
   "language": "python",
   "name": "python3"
  },
  "language_info": {
   "codemirror_mode": {
    "name": "ipython",
    "version": 3
   },
   "file_extension": ".py",
   "mimetype": "text/x-python",
   "name": "python",
   "nbconvert_exporter": "python",
   "pygments_lexer": "ipython3",
   "version": "3.9.6"
  }
 },
 "nbformat": 4,
 "nbformat_minor": 5
}
